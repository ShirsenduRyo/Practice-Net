{
 "cells": [
  {
   "cell_type": "markdown",
   "id": "55d486e0",
   "metadata": {},
   "source": [
    "# 1. Import Packages"
   ]
  },
  {
   "cell_type": "code",
   "execution_count": 34,
   "id": "67a4c3c9",
   "metadata": {},
   "outputs": [],
   "source": [
    "import pandas as pd\n",
    "from sqlalchemy import create_engine\n",
    "from math import sqrt\n",
    "import numpy as np"
   ]
  },
  {
   "cell_type": "markdown",
   "id": "8951f2d9",
   "metadata": {},
   "source": [
    "# 2. Utitity Classes"
   ]
  },
  {
   "cell_type": "code",
   "execution_count": 35,
   "id": "c56753c7",
   "metadata": {},
   "outputs": [],
   "source": [
    "class TrainingData:\n",
    "    \n",
    "    def __init__(self, csv_files):\n",
    "        self.csv_files = csv_files\n",
    "        self.db_engine = create_engine('sqlite:///training_data.db')\n",
    "    \n",
    "    def load_data(self):\n",
    "        for i, csv_file in enumerate(self.csv_files):\n",
    "            df = pd.read_csv(csv_file)\n",
    "            df.to_sql(f'training_{i+1}', self.db_engine, if_exists='replace', index=False)\n",
    "\n",
    "    def calculate_deviation(self, ideal_func):\n",
    "        deviation = 0.0\n",
    "        for i, csv_file in enumerate(self.csv_files):\n",
    "            df = pd.read_sql_table(f'training_{i+1}', self.db_engine)\n",
    "            y_deviation = df['y1'].subtract(ideal_func(df['x']), fill_value=0)\n",
    "            deviation += (y_deviation ** 2).sum()    \n",
    "        return deviation\n",
    "\n",
    "    def select_ideal_functions(self, num_functions):\n",
    "        \"\"\"\n",
    "        Selects the best-fit ideal functions. It iterates a specified number of times, num_functions \n",
    "        and in each iteration, it searches for the ideal function with the minimum sum of squared deviations \n",
    "        calculated in the calculate_deviation method. The selected function is added to the list of chosen \n",
    "        ideal functions.\n",
    "\n",
    "        \"\"\"\n",
    "        ideal_functions = []\n",
    "        for i in range(num_functions):\n",
    "            min_deviation = float('inf')\n",
    "            selected_func = None\n",
    "            for j in range(50):\n",
    "                deviation = self.calculate_deviation(self.get_ideal_function(j))\n",
    "                if deviation < min_deviation:\n",
    "                    min_deviation = deviation\n",
    "                    selected_func = self.get_ideal_function(j)\n",
    "            ideal_functions.append(selected_func)\n",
    "        return ideal_functions\n",
    "\n",
    "\n",
    "    def get_ideal_function(self, index):\n",
    "        \"\"\"\n",
    "        Retrieves the actual ideal function based on its index from the \"ideal_functions\" \n",
    "        table in the SQLite database.\n",
    "        \"\"\"\n",
    "        ideal_functions_df = pd.read_sql_table('ideal_functions', self.db_engine)\n",
    "        func = lambda x: ideal_functions_df.iloc[:, index].loc[ideal_functions_df['x'] == x].values[0]\n",
    "        return func"
   ]
  },
  {
   "cell_type": "code",
   "execution_count": 36,
   "id": "79ac5009",
   "metadata": {},
   "outputs": [],
   "source": [
    "class IdealFunctions:\n",
    "    def __init__(self, csv_file):\n",
    "        self.csv_file = csv_file\n",
    "        self.db_engine = create_engine('sqlite:///training_data.db')\n",
    "        \n",
    "\n",
    "    def load_data(self):\n",
    "        df = pd.read_csv(self.csv_file)\n",
    "        df.to_sql('ideal_functions', self.db_engine, if_exists='replace', index=False)\n"
   ]
  },
  {
   "cell_type": "code",
   "execution_count": 49,
   "id": "ea06ba69",
   "metadata": {},
   "outputs": [],
   "source": [
    "class TestData:\n",
    "    def __init__(self, csv_file):\n",
    "        self.csv_file = csv_file\n",
    "        self.db_engine = create_engine('sqlite:///training_data.db')\n",
    "\n",
    "    def load_data(self):\n",
    "        df = pd.read_csv(self.csv_file)\n",
    "        df.to_sql('test_data', self.db_engine, if_exists='replace', index=False)\n",
    "\n",
    "    def map_to_ideal_functions(self, ideal_functions):\n",
    "        results = []\n",
    "        df_test = pd.read_sql_table('test_data', self.db_engine)\n",
    "        for _, row in df_test.iterrows():\n",
    "            x, y = row['x'], row['y']\n",
    "            max_deviation = sqrt(2) * max(np.abs(ideal_func(x) - y).max() for ideal_func in ideal_functions)\n",
    "\n",
    "            matched_functions = [i+1 for i, ideal_func in enumerate(ideal_functions) if np.abs(ideal_func(x) - y).max() <= max_deviation]\n",
    "            results.append((x, y, matched_functions, max_deviation))\n",
    "        df_results = pd.DataFrame(results, columns=['x', 'y', 'Ideal Function', 'Deviation'])\n",
    "        df_results['x'] = df_results['x'].astype(float)\n",
    "        df_results['y'] = df_results['y'].astype(float)\n",
    "        df_results['Ideal Function'] = df_results['Ideal Function'].astype(str)\n",
    "        df_results['Deviation'] = df_results['Deviation'].astype(float)\n",
    "        df_results.to_sql('mapped_data', self.db_engine, if_exists='replace', index=False)\n",
    "\n",
    "    def visualize_data(self):\n",
    "    \n",
    "        pass\n"
   ]
  },
  {
   "cell_type": "markdown",
   "id": "0563de25",
   "metadata": {},
   "source": [
    "# 3. Loading The Files"
   ]
  },
  {
   "cell_type": "code",
   "execution_count": 50,
   "id": "f0224ede",
   "metadata": {},
   "outputs": [],
   "source": [
    "training_data = TrainingData(['Data/train.csv'])"
   ]
  },
  {
   "cell_type": "code",
   "execution_count": 51,
   "id": "0a665496",
   "metadata": {
    "scrolled": true
   },
   "outputs": [],
   "source": [
    "ideal_functions = IdealFunctions('Data/Ideal.csv')\n",
    "ideal_functions.load_data()"
   ]
  },
  {
   "cell_type": "code",
   "execution_count": 52,
   "id": "d41918e8",
   "metadata": {},
   "outputs": [],
   "source": [
    "test_data = TestData('Data/Test.csv')\n",
    "test_data.load_data()"
   ]
  },
  {
   "cell_type": "markdown",
   "id": "7a0d3295",
   "metadata": {},
   "source": [
    "# 4. Fitting The Training Data "
   ]
  },
  {
   "cell_type": "code",
   "execution_count": 53,
   "id": "18bc79e9",
   "metadata": {
    "scrolled": true
   },
   "outputs": [],
   "source": [
    "chosen_ideal_functions = training_data.select_ideal_functions(4)"
   ]
  },
  {
   "cell_type": "markdown",
   "id": "ab7ecdf1",
   "metadata": {},
   "source": [
    "# 5. Mapping Ideal Functions"
   ]
  },
  {
   "cell_type": "code",
   "execution_count": 54,
   "id": "d1f5ad50",
   "metadata": {},
   "outputs": [],
   "source": [
    "test_data.map_to_ideal_functions(chosen_ideal_functions)"
   ]
  },
  {
   "cell_type": "code",
   "execution_count": null,
   "id": "b4710cd6",
   "metadata": {},
   "outputs": [],
   "source": []
  },
  {
   "cell_type": "code",
   "execution_count": null,
   "id": "f08bb718",
   "metadata": {},
   "outputs": [],
   "source": []
  }
 ],
 "metadata": {
  "kernelspec": {
   "display_name": "Python 3 (ipykernel)",
   "language": "python",
   "name": "python3"
  },
  "language_info": {
   "codemirror_mode": {
    "name": "ipython",
    "version": 3
   },
   "file_extension": ".py",
   "mimetype": "text/x-python",
   "name": "python",
   "nbconvert_exporter": "python",
   "pygments_lexer": "ipython3",
   "version": "3.9.13"
  }
 },
 "nbformat": 4,
 "nbformat_minor": 5
}
